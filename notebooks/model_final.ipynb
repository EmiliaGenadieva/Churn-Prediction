{
 "cells": [
  {
   "cell_type": "code",
   "execution_count": 1,
   "metadata": {},
   "outputs": [],
   "source": [
    "import sqlite3\n",
    "import pandas\n",
    "database_name = \"/home/becode/Downloads/Documents/churn_prediction/data/database.db\"\n",
    "conn = sqlite3.connect(database_name)\n",
    "df = pandas.read_sql('SELECT * FROM bank_churners', conn)\n",
    "#df = df[['Customer_Age', 'Gender', 'Dependent_count', 'Education_Level', 'Marital_Status', 'Income_Category', 'Card_Category', 'Months_on_book']]\n",
    "conn.close()"
   ]
  },
  {
   "cell_type": "code",
   "execution_count": 1,
   "metadata": {},
   "outputs": [
    {
     "name": "stdout",
     "output_type": "stream",
     "text": [
      "0.9854843487706132\n"
     ]
    }
   ],
   "source": [
    "import sqlite3\n",
    "import pandas\n",
    "from sklearn.model_selection import GridSearchCV, train_test_split\n",
    "from sklearn.pipeline import Pipeline\n",
    "from sklearn.preprocessing import StandardScaler\n",
    "from sklearn.preprocessing import PolynomialFeatures\n",
    "from sklearn.compose import ColumnTransformer\n",
    "from sklearn.preprocessing import OneHotEncoder\n",
    "from sklearn.tree import DecisionTreeClassifier\n",
    "from sklearn.metrics import accuracy_score\n",
    "database_name = \"/home/becode/Downloads/Documents/churn_prediction/data/database.db\"\n",
    "conn = sqlite3.connect(database_name)\n",
    "\n",
    "    # code added for ml model   Marital_Status,\n",
    "df = pandas.read_sql('SELECT Total_Relationship_Count, Credit_Limit, Total_Revolving_Bal, Avg_Open_To_Buy, Total_Trans_Amt, Total_Trans_Ct FROM bank_churners', conn)\n",
    "y = pandas.read_sql('SELECT Attrition_Flag FROM bank_churners', conn)\n",
    "conn.close()\n",
    "    \n",
    "numeric_features = df.select_dtypes(exclude=\"object\").columns\n",
    "numeric_transformer = Pipeline(steps=[('poly', PolynomialFeatures(degree =2)), ('scaler', StandardScaler())])\n",
    "\n",
    "categorical_features = df.select_dtypes(include='object').columns\n",
    "categorical_transformer = Pipeline(steps=[('onehot', OneHotEncoder(handle_unknown='ignore'))])\n",
    "\n",
    "preprocessor = ColumnTransformer(transformers=[\n",
    "            ('num', numeric_transformer, numeric_features),\n",
    "            ('cat', categorical_transformer, categorical_features)])\n",
    "clf = Pipeline(steps=[('preprocessor', preprocessor),('classifier',  DecisionTreeClassifier(max_depth=12, random_state=1))])\n",
    "\n",
    "\n",
    "# Fit it to the data and print the best value combination\n",
    "\n",
    "\n",
    "X = df\n",
    "clf.fit(X, y)\n",
    "print(clf.score(X,y))\n",
    "# Saving model to pickle file  Dump function is used to write the object into the created file in byte format\n",
    "#with open(\"model-name.pkl\", \"wb\") as file:pickle.dump(clf, file)\n",
    "        \n",
    "    # The model has now been deserialized, next is to make use of it as you normally would.\n",
    "#frame = {'Gender':'F', 'Education_Level':'Graduate', 'Marital_Status':'Single', 'Income_Category':'Less than $40K', 'Card_Category':'Blue', 'Credit_Limit':8256.0,'Avg_Utilization_Ratio':0.9}\n",
    "\n",
    "#data_frame = pandas.DataFrame([frame])\n",
    "    # Opening saved model\n",
    "#with open(\"model-name.pkl\", \"rb\") as file: model = pickle.load(file)\n",
    "\n",
    "#prediction = model.predict(data_frame)\n",
    "#print(\"The result is\",prediction[0])\n"
   ]
  }
 ],
 "metadata": {
  "kernelspec": {
   "display_name": "Python 3",
   "language": "python",
   "name": "python3"
  },
  "language_info": {
   "codemirror_mode": {
    "name": "ipython",
    "version": 3
   },
   "file_extension": ".py",
   "mimetype": "text/x-python",
   "name": "python",
   "nbconvert_exporter": "python",
   "pygments_lexer": "ipython3",
   "version": "3.8.10"
  },
  "orig_nbformat": 4,
  "vscode": {
   "interpreter": {
    "hash": "916dbcbb3f70747c44a77c7bcd40155683ae19c65e1c03b4aa3499c5328201f1"
   }
  }
 },
 "nbformat": 4,
 "nbformat_minor": 2
}
